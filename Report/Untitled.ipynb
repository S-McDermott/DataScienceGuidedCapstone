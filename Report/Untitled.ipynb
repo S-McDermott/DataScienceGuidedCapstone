{
 "cells": [
  {
   "attachments": {},
   "cell_type": "markdown",
   "metadata": {},
   "source": [
    "## Introduction\n",
    "Big Mountain Resort, a ski resort located in Montana, offers spectacular views of Glacier National Park and Flathead National Forest, with access to 105 trails. Every year about 350,000 people ski or snowboard at Big Mountain.This mountain can accommodate skiers and riders of all levels and abilities.\n",
    "\n",
    "These ski runs are serviced by 11 lifts, 2 T-bars, and 1 magic carpet for novice skiers. The longest run is named Hellfire and is 3.3 miles in length. The base elevation is 4,464 ft, and the summit is 6,817 ft with a vertical drop of 2,353 ft.\n",
    "\n",
    "Big Mountain Resort has recently installed an additional chair lift to help increase the distribution of visitors across the mountain. This additional chair increases their operating costs by $1,540,000 this season. The goal is to offer guidance on how to select a better value for Big Mountain Resort's ticket price."
   ]
  },
  {
   "attachments": {},
   "cell_type": "markdown",
   "metadata": {},
   "source": [
    "## Data Acquisition and Cleaning\n",
    "The main data that was used is a CSV file that was provided by the database manager. The file contained information about 330 different resorts across the United States. The second data file, taken from Wikipedia, contains information about each state, particularly, state size and population.  \n",
    "\n",
    "The data started out with 330 rows and 27 columns. The cleaned data contained 277 rows and 25 columns. Rows containing no information for ticket pricing were removed. The two columns that were removed were fastEight and AdultWeekday. The fastEight column was removed since only one row had a value. The column for adult weekday pricing was also removed since other Montana resorts do not have separate pricing for weekend vs. weekday. \n",
    "\n",
    "The plan became to use state population and size data to see whether there is a relationship between these values and ticket prices. With a second plan to look into which amenities impact ticket price. \n",
    "\n",
    "For all information about how the data was cleaned, please reference [this Jupyter Notebook](http://localhost:8888/notebooks/Documents/project_folders/Guided_Capstone/Guided_Capstone/Notebooks/02_data_wrangling.ipynb)."
   ]
  },
  {
   "cell_type": "markdown",
   "metadata": {},
   "source": [
    "## Data Exploration"
   ]
  },
  {
   "cell_type": "markdown",
   "metadata": {},
   "source": [
    "## Modeling"
   ]
  },
  {
   "cell_type": "markdown",
   "metadata": {},
   "source": [
    "## Model Recommendations"
   ]
  },
  {
   "cell_type": "markdown",
   "metadata": {},
   "source": [
    "## Assumptions and Limitations"
   ]
  },
  {
   "cell_type": "markdown",
   "metadata": {},
   "source": [
    "## Other Data and Future Work"
   ]
  },
  {
   "cell_type": "markdown",
   "metadata": {},
   "source": [
    "## Conclusions"
   ]
  }
 ],
 "metadata": {
  "kernelspec": {
   "display_name": "Python 3",
   "language": "python",
   "name": "python3"
  },
  "language_info": {
   "codemirror_mode": {
    "name": "ipython",
    "version": 3
   },
   "file_extension": ".py",
   "mimetype": "text/x-python",
   "name": "python",
   "nbconvert_exporter": "python",
   "pygments_lexer": "ipython3",
   "version": "3.8.5"
  }
 },
 "nbformat": 4,
 "nbformat_minor": 4
}
